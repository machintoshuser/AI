{
 "cells": [
  {
   "cell_type": "markdown",
   "metadata": {},
   "source": [
    "Additional things to try/talk about:\n",
    "\n",
    "\n",
    "1. Dask supports some ML algorithms like xgboost: https://gist.github.com/mrocklin/19c89d78e34437e061876a9872f4d2df, https://dask-ml.readthedocs.io/en/latest/xgboost.html\n",
    "\n",
    "2. Modin, which is faster pandas: https://github.com/modin-project/modin\n",
    "\n",
    "3. CUDF for GPU: cuDF provides a pandas-like API that will be familiar to data engineers & data scientists, so they can use it to easily accelerate their workflows without going into the details of CUDA programming.\n",
    "\n",
    "https://rapidsai.github.io/projects/cudf/en/0.7.0/dask-xgb-10min.html"
   ]
  }
 ],
 "metadata": {
  "kernelspec": {
   "display_name": "dask-example",
   "language": "python",
   "name": "dask-example"
  },
  "language_info": {
   "codemirror_mode": {
    "name": "ipython",
    "version": 3
   },
   "file_extension": ".py",
   "mimetype": "text/x-python",
   "name": "python",
   "nbconvert_exporter": "python",
   "pygments_lexer": "ipython3",
   "version": "3.6.8"
  }
 },
 "nbformat": 4,
 "nbformat_minor": 2
}
