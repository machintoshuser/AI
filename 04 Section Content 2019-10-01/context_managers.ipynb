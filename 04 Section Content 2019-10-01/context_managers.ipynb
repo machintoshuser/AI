{
 "cells": [
  {
   "cell_type": "markdown",
   "metadata": {},
   "source": [
    "## Part 1a: Acquiring and returning resources\n",
    "What is the most obvious issue? How to fix it? (without context managers)"
   ]
  },
  {
   "cell_type": "code",
   "execution_count": 6,
   "metadata": {},
   "outputs": [
    {
     "name": "stderr",
     "output_type": "stream",
     "text": [
      "ERROR:root:Internal Python error in the inspect module.\n",
      "Below is the traceback from this internal error.\n",
      "\n"
     ]
    },
    {
     "name": "stdout",
     "output_type": "stream",
     "text": [
      "Traceback (most recent call last):\n",
      "  File \"/anaconda3/lib/python3.7/site-packages/IPython/core/interactiveshell.py\", line 3267, in run_code\n",
      "  File \"<ipython-input-6-85c24bd75fd3>\", line 5, in <module>\n",
      "    files.append(open('output.txt', 'w'))\n",
      "OSError: [Errno 24] Too many open files: 'output.txt'\n",
      "\n",
      "During handling of the above exception, another exception occurred:\n",
      "\n",
      "Traceback (most recent call last):\n",
      "  File \"/anaconda3/lib/python3.7/site-packages/IPython/core/interactiveshell.py\", line 2018, in showtraceback\n",
      "AttributeError: 'OSError' object has no attribute '_render_traceback_'\n",
      "\n",
      "During handling of the above exception, another exception occurred:\n",
      "\n",
      "Traceback (most recent call last):\n",
      "  File \"/anaconda3/lib/python3.7/site-packages/IPython/core/ultratb.py\", line 1095, in get_records\n",
      "  File \"/anaconda3/lib/python3.7/site-packages/IPython/core/ultratb.py\", line 313, in wrapped\n",
      "  File \"/anaconda3/lib/python3.7/site-packages/IPython/core/ultratb.py\", line 347, in _fixed_getinnerframes\n",
      "  File \"/anaconda3/lib/python3.7/inspect.py\", line 1502, in getinnerframes\n",
      "  File \"/anaconda3/lib/python3.7/inspect.py\", line 1460, in getframeinfo\n",
      "  File \"/anaconda3/lib/python3.7/inspect.py\", line 696, in getsourcefile\n",
      "  File \"/anaconda3/lib/python3.7/inspect.py\", line 725, in getmodule\n",
      "  File \"/anaconda3/lib/python3.7/inspect.py\", line 709, in getabsfile\n",
      "  File \"/anaconda3/lib/python3.7/posixpath.py\", line 383, in abspath\n",
      "OSError: [Errno 24] Too many open files\n"
     ]
    },
    {
     "ename": "OSError",
     "evalue": "[Errno 24] Too many open files: 'output.txt'",
     "output_type": "error",
     "traceback": [
      "\u001b[0;31m---------------------------------------------------------------------------\u001b[0m"
     ]
    }
   ],
   "source": [
    "\n",
    "files=[]\n",
    "for x in range(10000):\n",
    "    #print(x)\n",
    "    files.append(open('output.txt', 'w'))"
   ]
  },
  {
   "cell_type": "code",
   "execution_count": 2,
   "metadata": {},
   "outputs": [
    {
     "data": {
      "text/plain": [
       "199"
      ]
     },
     "execution_count": 2,
     "metadata": {},
     "output_type": "execute_result"
    },
    {
     "name": "stdout",
     "output_type": "stream",
     "text": [
      "The history saving thread hit an unexpected error (OperationalError('unable to open database file')).History will not be written to the database.\n"
     ]
    }
   ],
   "source": [
    "len(files)"
   ]
  },
  {
   "cell_type": "code",
   "execution_count": 5,
   "metadata": {},
   "outputs": [],
   "source": [
    "# Determine which files are open in a list\n",
    "def check_closed(list_files):\n",
    "    print(\"There are {} files in the list\".format(len(list_files)))\n",
    "    for i in range(len(list_files)):\n",
    "        if not list_files[i].closed:\n",
    "            print('File not closed: {}'.format(i))\n",
    "    print(\"Done!\")"
   ]
  },
  {
   "cell_type": "code",
   "execution_count": 11,
   "metadata": {},
   "outputs": [
    {
     "name": "stdout",
     "output_type": "stream",
     "text": [
      "There are 10000 files in the list\n",
      "Done!\n"
     ]
    }
   ],
   "source": [
    "check_closed(files)"
   ]
  },
  {
   "cell_type": "markdown",
   "metadata": {},
   "source": [
    "## Part 1b"
   ]
  },
  {
   "cell_type": "code",
   "execution_count": 12,
   "metadata": {},
   "outputs": [
    {
     "ename": "Exception",
     "evalue": "exception raised",
     "output_type": "error",
     "traceback": [
      "\u001b[0;31m---------------------------------------------------------------------------\u001b[0m",
      "\u001b[0;31mException\u001b[0m                                 Traceback (most recent call last)",
      "\u001b[0;32m<ipython-input-12-eb501ac70131>\u001b[0m in \u001b[0;36m<module>\u001b[0;34m\u001b[0m\n\u001b[1;32m      3\u001b[0m     \u001b[0mf\u001b[0m \u001b[0;34m=\u001b[0m \u001b[0mopen\u001b[0m\u001b[0;34m(\u001b[0m\u001b[0;34m'foo.txt'\u001b[0m\u001b[0;34m,\u001b[0m \u001b[0;34m'w'\u001b[0m\u001b[0;34m)\u001b[0m\u001b[0;34m\u001b[0m\u001b[0;34m\u001b[0m\u001b[0m\n\u001b[1;32m      4\u001b[0m     \u001b[0mfiles\u001b[0m\u001b[0;34m.\u001b[0m\u001b[0mappend\u001b[0m\u001b[0;34m(\u001b[0m\u001b[0mf\u001b[0m\u001b[0;34m)\u001b[0m\u001b[0;34m\u001b[0m\u001b[0;34m\u001b[0m\u001b[0m\n\u001b[0;32m----> 5\u001b[0;31m     \u001b[0;32mif\u001b[0m \u001b[0mx\u001b[0m\u001b[0;34m==\u001b[0m\u001b[0;36m5\u001b[0m\u001b[0;34m:\u001b[0m \u001b[0;32mraise\u001b[0m \u001b[0mException\u001b[0m\u001b[0;34m(\u001b[0m\u001b[0;34m'exception raised'\u001b[0m\u001b[0;34m)\u001b[0m\u001b[0;34m\u001b[0m\u001b[0;34m\u001b[0m\u001b[0m\n\u001b[0m\u001b[1;32m      6\u001b[0m     \u001b[0mf\u001b[0m\u001b[0;34m.\u001b[0m\u001b[0mclose\u001b[0m\u001b[0;34m(\u001b[0m\u001b[0;34m)\u001b[0m\u001b[0;34m\u001b[0m\u001b[0;34m\u001b[0m\u001b[0m\n\u001b[1;32m      7\u001b[0m \u001b[0;34m\u001b[0m\u001b[0m\n",
      "\u001b[0;31mException\u001b[0m: exception raised"
     ]
    }
   ],
   "source": [
    "files=[]\n",
    "for x in range(10):\n",
    "    f = open('foo.txt', 'w')\n",
    "    files.append(f)\n",
    "    if x==5: raise Exception('exception raised')\n",
    "    f.close()"
   ]
  },
  {
   "cell_type": "code",
   "execution_count": 13,
   "metadata": {},
   "outputs": [
    {
     "name": "stdout",
     "output_type": "stream",
     "text": [
      "There are 6 files in the list\n",
      "File not closed: 5\n",
      "Done!\n"
     ]
    }
   ],
   "source": [
    "check_closed(files)"
   ]
  },
  {
   "cell_type": "markdown",
   "metadata": {},
   "source": [
    "## Part 2: long computation\n",
    "- What is a possible solution with context manager?\n",
    "  - Help me use the \"with\" statement. Why might this be better?"
   ]
  },
  {
   "cell_type": "code",
   "execution_count": 14,
   "metadata": {},
   "outputs": [
    {
     "name": "stdout",
     "output_type": "stream",
     "text": [
      "The time to compute is 2.220833342999981 seconds\n",
      "\n",
      "There are 1 files in the list\n",
      "Done!\n"
     ]
    }
   ],
   "source": [
    "## delays things for 5 seconds\n",
    "from timeit import timeit\n",
    "files = []\n",
    "\n",
    "def sum_squares(n_squares=6):\n",
    "    squared = []\n",
    "    for i in range(n_squares):\n",
    "        squared.append(i**2)\n",
    "    summed_value = 0\n",
    "    for i in squared:\n",
    "        summed_value += i\n",
    "    return summed_value\n",
    "\n",
    "\n",
    "def write_value_to_file():\n",
    "    f = open('output.txt', 'w')\n",
    "    files.append(f)\n",
    "    time_it_took = timeit(sum_squares)\n",
    "    msg = 'The time to compute is {} seconds\\n'.format(time_it_took)\n",
    "    print(msg)\n",
    "    f.write(msg)\n",
    "    f.close()\n",
    "\n",
    "write_value_to_file() \n",
    "check_closed(files)\n"
   ]
  },
  {
   "cell_type": "markdown",
   "metadata": {},
   "source": [
    "## Part 3: Constructing our own Context Manager to do the same thing\n",
    "Q: What is a context manager?\n",
    "\n",
    "What to do if I comment out the exception?"
   ]
  },
  {
   "cell_type": "code",
   "execution_count": 20,
   "metadata": {},
   "outputs": [
    {
     "name": "stdout",
     "output_type": "stream",
     "text": [
      "__init__\n"
     ]
    }
   ],
   "source": [
    "'''\n",
    "Part 3: Constructing our own Context Manager to do the same thing\n",
    "http://book.pythontips.com/en/latest/context_managers.html#implementing-a-context-manager-as-a-class\n",
    "'''\n",
    "files = []\n",
    "\n",
    "class File(object):\n",
    "    \"\"\"Starter context manager\n",
    "    \"\"\"\n",
    "    def __init__(self, file_name, method):\n",
    "        print('__init__')\n",
    "        self.file_obj = open(file_name, method)\n",
    "    def __enter__(self):\n",
    "        print('enter')\n",
    "        return self.file_obj\n",
    "    def __exit__(self, type, value, traceback):\n",
    "        print('exit')\n",
    "        self.file_obj.close()\n",
    "\n",
    "item_test=File('output.txt', 'w')\n"
   ]
  },
  {
   "cell_type": "code",
   "execution_count": 21,
   "metadata": {
    "scrolled": true
   },
   "outputs": [
    {
     "name": "stdout",
     "output_type": "stream",
     "text": [
      "enter\n",
      "The time to compute is 2.199377118999905 seconds\n",
      "\n",
      "exit\n",
      "There are 1 files in the list\n",
      "Done!\n"
     ]
    }
   ],
   "source": [
    "with item_test as f:\n",
    "    files.append(f)\n",
    "    time_it_took = timeit(sum_squares) # 5 seconds after enter\n",
    "    msg = 'The time to compute is {} seconds\\n'.format(time_it_took)\n",
    "    #raise Exception('exception')\n",
    "    print(msg)\n",
    "    f.write(msg)\n",
    "check_closed(files)\n"
   ]
  },
  {
   "cell_type": "markdown",
   "metadata": {},
   "source": [
    "## Part 4: contextlib"
   ]
  },
  {
   "cell_type": "code",
   "execution_count": 22,
   "metadata": {},
   "outputs": [
    {
     "name": "stdout",
     "output_type": "stream",
     "text": [
      "There are 10 files in the list\n",
      "Done!\n"
     ]
    }
   ],
   "source": [
    "'''\n",
    "Part 4: Contextlib contextmanager\n",
    "https://docs.python.org/3/library/contextlib.html#contextlib.contextmanager\n",
    "'''\n",
    "\n",
    "from contextlib import contextmanager\n",
    "\n",
    "@contextmanager\n",
    "def open_file(path, mode):\n",
    "    the_file = open(path, mode)\n",
    "    yield the_file\n",
    "    the_file.close()\n",
    "\n",
    "files = []\n",
    "\n",
    "for x in range(10):\n",
    "    with open_file('foo.txt', 'w') as infile:\n",
    "        files.append(infile)\n",
    "\n",
    "check_closed(files)\n"
   ]
  },
  {
   "cell_type": "code",
   "execution_count": null,
   "metadata": {},
   "outputs": [],
   "source": []
  }
 ],
 "metadata": {
  "kernelspec": {
   "display_name": "Python 3",
   "language": "python",
   "name": "python3"
  },
  "language_info": {
   "codemirror_mode": {
    "name": "ipython",
    "version": 3
   },
   "file_extension": ".py",
   "mimetype": "text/x-python",
   "name": "python",
   "nbconvert_exporter": "python",
   "pygments_lexer": "ipython3",
   "version": "3.7.2"
  }
 },
 "nbformat": 4,
 "nbformat_minor": 2
}
